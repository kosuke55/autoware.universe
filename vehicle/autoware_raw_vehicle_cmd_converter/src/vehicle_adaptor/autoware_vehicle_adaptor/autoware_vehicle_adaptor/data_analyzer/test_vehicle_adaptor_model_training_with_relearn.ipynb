{
 "cells": [
  {
   "cell_type": "code",
   "execution_count": null,
   "id": "c81a6407-6ab0-41a0-94af-6f60afcc2b6b",
   "metadata": {},
   "outputs": [],
   "source": [
    "from autoware_vehicle_adaptor.training import train_error_prediction_NN_with_offline_data\n",
    "import os"
   ]
  },
  {
   "cell_type": "code",
   "execution_count": null,
   "id": "d05e604d-fcfd-4393-bccc-17abc6ab9ca7",
   "metadata": {},
   "outputs": [],
   "source": [
    "model_trainer = train_error_prediction_NN_with_offline_data.train_error_prediction_NN_with_offline_data()"
   ]
  },
  {
   "cell_type": "code",
   "execution_count": null,
   "id": "6402a14c-8ee4-42b5-b391-448a250c78e4",
   "metadata": {},
   "outputs": [],
   "source": [
    "base_dir = \"models_save_dir\"\n",
    "if not os.path.isdir(base_dir):\n",
    "    os.mkdir(base_dir)"
   ]
  },
  {
   "cell_type": "code",
   "execution_count": null,
   "id": "089ab55e-3b56-44fd-b60b-cd99ae54c4a9",
   "metadata": {},
   "outputs": [],
   "source": [
    "model_trainer.add_data_from_csv(\"train/rosbag2_2024_12_31-11_50_35\", add_mode=\"as_train\")\n",
    "model_trainer.add_data_from_csv(\"train/rosbag2_2024_12_31-11_53_47\", add_mode=\"as_train\")\n",
    "model_trainer.add_data_from_csv(\"train/rosbag2_2024_12_31-11_56_43\", add_mode=\"as_train\")\n",
    "model_trainer.add_data_from_csv(\"train/rosbag2_2024_12_31-12_00_20\", add_mode=\"as_train\")\n",
    "model_trainer.add_data_from_csv(\"train/rosbag2_2024_12_31-12_03_31\", add_mode=\"as_train\")\n",
    "model_trainer.add_data_from_csv(\"train/rosbag2_2024_12_31-12_07_27\", add_mode=\"as_train\")\n",
    "model_trainer.add_data_from_csv(\"train/rosbag2_2024_12_31-12_11_43\", add_mode=\"as_train\")\n",
    "model_trainer.add_data_from_csv(\"train/rosbag2_2024_12_31-12_53_18\", add_mode=\"as_train\")\n",
    "\n",
    "\n",
    "\n",
    "\n",
    "model_trainer.add_data_from_csv(\"val/rosbag2_2024_12_31-12_19_32\", add_mode=\"as_val\")\n",
    "model_trainer.add_data_from_csv(\"val/rosbag2_2024_12_31-12_22_29\", add_mode=\"as_val\")\n",
    "model_trainer.add_data_from_csv(\"val/rosbag2_2024_12_31-12_26_02\", add_mode=\"as_val\")\n",
    "model_trainer.add_data_from_csv(\"val/rosbag2_2024_12_31-12_29_07\", add_mode=\"as_val\")\n",
    "model_trainer.add_data_from_csv(\"val/rosbag2_2024_12_31-12_32_09\", add_mode=\"as_val\")\n",
    "model_trainer.add_data_from_csv(\"val/rosbag2_2024_12_31-12_36_06\", add_mode=\"as_val\")\n",
    "model_trainer.add_data_from_csv(\"val/rosbag2_2024_12_31-12_44_07\", add_mode=\"as_val\")\n",
    "model_trainer.add_data_from_csv(\"val/rosbag2_2024_12_31-12_50_39\", add_mode=\"as_val\")\n"
   ]
  },
  {
   "cell_type": "code",
   "execution_count": null,
   "id": "31b302c0-721c-46e6-83a2-c33457d616cc",
   "metadata": {
    "scrolled": true
   },
   "outputs": [],
   "source": [
    "model_trainer.get_trained_model(learning_rates=[1e-3, 1e-4,1e-5,1e-6],batch_sizes=[100])"
   ]
  },
  {
   "cell_type": "code",
   "execution_count": null,
   "id": "a338a566-d97d-49c4-a0b5-69bcd073da32",
   "metadata": {},
   "outputs": [],
   "source": [
    "model_idx = 0\n",
    "model_path = base_dir + \"/temp_vehicle_model_\" + str(model_idx) + \".pth\""
   ]
  },
  {
   "cell_type": "code",
   "execution_count": null,
   "id": "5d2b24f5-560e-4411-90d6-d30589ae987b",
   "metadata": {},
   "outputs": [],
   "source": [
    "model_trainer.save_model(path=model_path)"
   ]
  },
  {
   "cell_type": "code",
   "execution_count": null,
   "id": "64ff0369-484e-4a0c-a495-0a2c93cd70b4",
   "metadata": {
    "scrolled": true
   },
   "outputs": [],
   "source": [
    "for i in range(4):\n",
    "    model_idx += 1\n",
    "    model_path = base_dir + \"/temp_vehicle_model_\" + str(model_idx) + \"_relearened.pth\"\n",
    "    plt_save_dir = base_dir + \"/plt_temp_vehicle_model_\" + str(model_idx)\n",
    "    if not os.path.isdir(plt_save_dir):\n",
    "        os.mkdir(plt_save_dir)\n",
    "    model_trainer.get_relearned_model(learning_rates=[1e-3, 1e-4,1e-5,1e-6], batch_sizes=[100], randomize= 0.001, plt_save_dir=plt_save_dir,model_save_path=model_path)\n",
    "    model_trainer.save_model(path=base_dir + \"/temp_vehicle_model_\" + str(model_idx) + \".pth\",\n",
    "                             path_for_initial_hidden=base_dir + \"/temp_vehicle_model_for_initial_hidden_\" + str(model_idx) + \".pth\")"
   ]
  },
  {
   "cell_type": "code",
   "execution_count": null,
   "id": "c2541edd-a342-480a-9337-6f2b87e45d6a",
   "metadata": {
    "scrolled": true
   },
   "outputs": [],
   "source": [
    "for i in range(5):\n",
    "    model_path = base_dir + \"/vehicle_model_\" + str(i+1) + \"_relearened.pth\"\n",
    "    plt_save_dir = base_dir + \"/plt_vehicle_model_\" + str(i+1)\n",
    "    if not os.path.isdir(plt_save_dir):\n",
    "        os.mkdir(plt_save_dir)\n",
    "    if i > 0:\n",
    "        always_update_model = True\n",
    "    else:\n",
    "        always_update_model = False\n",
    "    model_trainer.get_relearned_model(learning_rates=[1e-4,1e-5,1e-6], batch_sizes=[100], randomize= 0.001, plt_save_dir=plt_save_dir, model_save_path=model_path, always_update_model=always_update_model, freeze_shallow_layers=True)\n",
    "    model_trainer.save_model(path=base_dir + \"/vehicle_model_\" + str(i+1) + \".pth\",\n",
    "                             path_for_initial_hidden=base_dir + \"/vehicle_model_for_initial_hidden_\" + str(i+1) + \".pth\")"
   ]
  },
  {
   "cell_type": "code",
   "execution_count": null,
   "id": "0d0b2c49-6ac5-47e8-9808-342397567731",
   "metadata": {},
   "outputs": [],
   "source": [
    "if not os.path.isdir(base_dir+\"/vehicle_models\"):\n",
    "    os.mkdir(base_dir+\"/vehicle_models\")"
   ]
  },
  {
   "cell_type": "code",
   "execution_count": null,
   "id": "76438e74-60d6-4f46-9a67-0eca4b993790",
   "metadata": {},
   "outputs": [],
   "source": [
    "for i in range(5):\n",
    "    os.system(\"cp -r \" + base_dir + \"/vehicle_model_\" +str(i+1) +\" \" + base_dir +\"/vehicle_models/\")\n",
    "    os.system(\"cp -r \" + base_dir + \"/vehicle_model_\" +str(i+1) +\".pth \" + base_dir +\"/vehicle_models/\")\n",
    "    "
   ]
  },
  {
   "cell_type": "code",
   "execution_count": null,
   "id": "3be55002-918b-440a-a5fa-637ecdb0f31c",
   "metadata": {},
   "outputs": [],
   "source": []
  },
  {
   "cell_type": "code",
   "execution_count": null,
   "id": "6faacf23-9c97-4f33-9083-b45ffcab2240",
   "metadata": {},
   "outputs": [],
   "source": []
  }
 ],
 "metadata": {
  "kernelspec": {
   "display_name": "Python 3 (ipykernel)",
   "language": "python",
   "name": "python3"
  },
  "language_info": {
   "codemirror_mode": {
    "name": "ipython",
    "version": 3
   },
   "file_extension": ".py",
   "mimetype": "text/x-python",
   "name": "python",
   "nbconvert_exporter": "python",
   "pygments_lexer": "ipython3",
   "version": "3.10.12"
  }
 },
 "nbformat": 4,
 "nbformat_minor": 5
}
